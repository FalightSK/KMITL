{
 "cells": [
  {
   "cell_type": "code",
   "execution_count": 1,
   "metadata": {},
   "outputs": [],
   "source": [
    "import numpy as np\n",
    "import torch\n",
    "from torch import nn, optim\n",
    "\n",
    "import gymnasium as gym\n",
    "from gymnasium.wrappers import TimeLimit\n",
    "import random\n",
    "from collections import deque\n",
    "import matplotlib.pyplot as plt"
   ]
  },
  {
   "cell_type": "code",
   "execution_count": 2,
   "metadata": {},
   "outputs": [
    {
     "name": "stdout",
     "output_type": "stream",
     "text": [
      "cuda\n"
     ]
    }
   ],
   "source": [
    "### GPU health check\n",
    "device = 'cuda' if torch.cuda.is_available() else 'cpu'\n",
    "print(device)"
   ]
  },
  {
   "cell_type": "markdown",
   "metadata": {},
   "source": [
    "### Task 1"
   ]
  },
  {
   "cell_type": "code",
   "execution_count": 3,
   "metadata": {},
   "outputs": [],
   "source": [
    "class MLP(nn.Module):\n",
    "    def __init__(self, input_size, output_size):\n",
    "        super(MLP, self).__init__()\n",
    "        self.input_layer = nn.Linear(input_size, 128)\n",
    "        self.hidden1 = nn.Linear(128, 128)\n",
    "        self.norm1 = nn.BatchNorm1d(128)\n",
    "        # self.hidden2 = nn.Linear(128, 64)\n",
    "        # self.norm2 = nn.BatchNorm1d(64)\n",
    "        self.relu = nn.LeakyReLU()\n",
    "        self.output_layer = nn.Linear(128 ,output_size)\n",
    "        \n",
    "        \n",
    "    def forward(self, x):\n",
    "        y = self.relu(self.input_layer(x))\n",
    "        y = self.relu(self.norm1(self.hidden1(y)))\n",
    "        # y = self.relu(self.norm2(self.hidden2(y)))\n",
    "        y = self.output_layer(y)\n",
    "        return y        "
   ]
  },
  {
   "cell_type": "code",
   "execution_count": 4,
   "metadata": {},
   "outputs": [
    {
     "name": "stdout",
     "output_type": "stream",
     "text": [
      "tensor([[-0.0471, -0.0878,  0.0311,  0.1508, -0.1003]])\n"
     ]
    }
   ],
   "source": [
    "net = MLP(4, 5)\n",
    "x = torch.rand((1, 4))\n",
    "net.eval()\n",
    "with torch.no_grad():\n",
    "    print(net(x))"
   ]
  },
  {
   "cell_type": "markdown",
   "metadata": {},
   "source": [
    "### Task 2"
   ]
  },
  {
   "cell_type": "code",
   "execution_count": 5,
   "metadata": {},
   "outputs": [
    {
     "name": "stdout",
     "output_type": "stream",
     "text": [
      "sample weight before backprop: tensor([ 0.1968, -0.0590, -0.0095, -0.1206], grad_fn=<SliceBackward0>)\n",
      "sample weight after backprop: tensor([ 0.1967, -0.0591, -0.0096, -0.1207], grad_fn=<SliceBackward0>)\n",
      "loss: 0.3672661781311035\n"
     ]
    }
   ],
   "source": [
    "loss_fn = nn.MSELoss()\n",
    "optimizer = optim.Adam(net.parameters(), lr=1e-4)\n",
    "\n",
    "target = torch.tensor([[1, 0, 0, 1, 0]], dtype=torch.float32)\n",
    "\n",
    "print(\"sample weight before backprop:\", net.input_layer.weight[0,:])\n",
    "optimizer.zero_grad()\n",
    "net.eval()\n",
    "y = net(x)\n",
    "loss = loss_fn(y, target)\n",
    "loss.backward()\n",
    "optimizer.step()\n",
    "print(\"sample weight after backprop:\", net.input_layer.weight[0,:])\n",
    "print(\"loss:\", loss.item())"
   ]
  },
  {
   "cell_type": "markdown",
   "metadata": {},
   "source": [
    "### Task 3"
   ]
  },
  {
   "cell_type": "code",
   "execution_count": 6,
   "metadata": {},
   "outputs": [
    {
     "name": "stdout",
     "output_type": "stream",
     "text": [
      "sample training dataset\n",
      "tensor([0.8823, 0.9150, 0.3829, 0.9593], device='cuda:0')\n",
      "tensor([0.6532, 0.3958, 0.9147, 0.2036, 0.2018], device='cuda:0')\n",
      "\n",
      "start traning\n",
      "loss: 0.23281697928905487\n",
      "loss: 0.014884429052472115\n",
      "loss: 0.00415765168145299\n",
      "loss: 0.000993550755083561\n",
      "loss: 0.00031444421620108187\n"
     ]
    }
   ],
   "source": [
    "torch.manual_seed(42)\n",
    "input_data = torch.rand((16, 4)).to(device)\n",
    "target = torch.rand((16, 5)).to(device)\n",
    "\n",
    "print(\"sample training dataset\")\n",
    "print(input_data[0, :])\n",
    "print(target[0, :])\n",
    "print()\n",
    "\n",
    "net = MLP(4, 5).to(device)\n",
    "loss_fn = nn.SmoothL1Loss()\n",
    "optimizer = optim.Adam(net.parameters(), lr=5e-4)\n",
    "\n",
    "print(\"start traning\")\n",
    "for epoch in range(100):\n",
    "    \n",
    "    optimizer.zero_grad()\n",
    "    \n",
    "    output = net(input_data)\n",
    "    \n",
    "    loss = loss_fn(target, output)\n",
    "    \n",
    "    loss.backward()\n",
    "    optimizer.step()\n",
    "    \n",
    "    if epoch%20 == 0:\n",
    "        print(\"loss:\", loss.item())"
   ]
  },
  {
   "cell_type": "code",
   "execution_count": 7,
   "metadata": {},
   "outputs": [
    {
     "name": "stdout",
     "output_type": "stream",
     "text": [
      "evaluate model\n",
      "output: tensor([[0.6346, 0.6141, 0.3683, 0.7842, 0.8022]], device='cuda:0',\n",
      "       grad_fn=<AddmmBackward0>)\n",
      "target: tensor([0.6524, 0.6057, 0.3725, 0.7980, 0.8399], device='cuda:0')\n"
     ]
    }
   ],
   "source": [
    "net.eval()\n",
    "print(\"evaluate model\")\n",
    "print(\"output:\", net(input_data[5].unsqueeze(0)))\n",
    "print(\"target:\", target[5])"
   ]
  },
  {
   "cell_type": "markdown",
   "metadata": {},
   "source": [
    "### Task 4"
   ]
  },
  {
   "cell_type": "code",
   "execution_count": 8,
   "metadata": {},
   "outputs": [],
   "source": [
    "class TimeLimitWrapper(gym.Wrapper):\n",
    "    def __init__(self, env, max_steps):\n",
    "        super(TimeLimitWrapper, self).__init__(env)\n",
    "        self.max_steps = max_steps\n",
    "        self.current_step = 0\n",
    "\n",
    "    def reset(self):\n",
    "        self.current_step = 0\n",
    "        return self.env.reset()\n",
    "\n",
    "    def step(self, action):\n",
    "        next_state, reward, done, _, _ = self.env.step(action)\n",
    "        self.current_step += 1\n",
    "        if self.current_step >= int(self.max_steps*0.8) and reward > 150:\n",
    "            done = True\n",
    "        if self.current_step >= self.max_steps:\n",
    "            reward = reward - 150 # Timeout penalty\n",
    "            done = True\n",
    "        return next_state, reward, done, _, _"
   ]
  },
  {
   "cell_type": "code",
   "execution_count": 9,
   "metadata": {},
   "outputs": [
    {
     "name": "stdout",
     "output_type": "stream",
     "text": [
      "8 4\n"
     ]
    }
   ],
   "source": [
    "# Initialize the environment\n",
    "env = gym.make(\"LunarLander-v2\")\n",
    "env = TimeLimitWrapper(env, max_steps=500)\n",
    "state_size = env.observation_space.shape[0]\n",
    "action_size = env.action_space.n\n",
    "\n",
    "print(state_size, action_size)\n",
    "\n",
    "# Hyperparameters\n",
    "EPISODES = 500\n",
    "GAMMA = 0.99\n",
    "LR = 1e-3\n",
    "BATCH_SIZE = 64\n",
    "MEMORY_SIZE = 10000\n",
    "EPSILON_START = 1.0\n",
    "EPSILON_END = 0.01\n",
    "EPSILON_DECAY = 0.995"
   ]
  },
  {
   "cell_type": "code",
   "execution_count": 10,
   "metadata": {},
   "outputs": [],
   "source": [
    "# Initialize the DQN\n",
    "policy_net = MLP(state_size, action_size).to(device)\n",
    "target_net = MLP(state_size, action_size).to(device)\n",
    "best_net = MLP(state_size, action_size).to(device)\n",
    "target_net.load_state_dict(policy_net.state_dict())\n",
    "target_net.eval()\n",
    "\n",
    "optimizer = optim.Adam(policy_net.parameters(), lr=LR)\n",
    "memory = deque(maxlen=MEMORY_SIZE)\n",
    "\n",
    "epsilon = EPSILON_START"
   ]
  },
  {
   "cell_type": "code",
   "execution_count": 11,
   "metadata": {},
   "outputs": [
    {
     "name": "stderr",
     "output_type": "stream",
     "text": [
      "/tmp/ipykernel_259207/4061353365.py:15: UserWarning: Creating a tensor from a list of numpy.ndarrays is extremely slow. Please consider converting the list to a single numpy.ndarray with numpy.array() before converting to a tensor. (Triggered internally at ../torch/csrc/utils/tensor_new.cpp:275.)\n",
      "  states = torch.tensor(states, dtype=torch.float32).to(device)\n"
     ]
    },
    {
     "name": "stdout",
     "output_type": "stream",
     "text": [
      "Episode: 0, Reward: -374.73907362301924, Epsilon: 0.99, loss: 0.31867432594299316\n",
      "Episode: 10, Reward: -228.52472312851685, Epsilon: 0.95, loss: 8.04583740234375\n",
      "Episode: 20, Reward: -84.86805689182046, Epsilon: 0.90, loss: 1.4556993246078491\n",
      "Episode: 30, Reward: -214.1837552894014, Epsilon: 0.86, loss: 32.47742462158203\n",
      "Episode: 40, Reward: -420.7202029982104, Epsilon: 0.81, loss: 4.674350738525391\n",
      "Episode: 50, Reward: -68.93828210566463, Epsilon: 0.77, loss: 40.18852615356445\n",
      "Episode: 60, Reward: -101.44432667304974, Epsilon: 0.74, loss: 17.839439392089844\n",
      "Episode: 70, Reward: -76.17957330522509, Epsilon: 0.70, loss: 1.351485013961792\n",
      "Episode: 80, Reward: -102.61922707069488, Epsilon: 0.67, loss: 32.6277961730957\n",
      "Episode: 90, Reward: -113.83552927204576, Epsilon: 0.63, loss: 36.12750244140625\n",
      "Episode: 100, Reward: -59.511355667843134, Epsilon: 0.60, loss: 4.4275007247924805\n",
      "Episode: 110, Reward: -256.9130141848681, Epsilon: 0.57, loss: 3.3594565391540527\n",
      "Episode: 120, Reward: -77.61611442493383, Epsilon: 0.55, loss: 141.39608764648438\n",
      "Episode: 130, Reward: -98.04997897140413, Epsilon: 0.52, loss: 24.00037384033203\n",
      "Episode: 140, Reward: -64.42472930565474, Epsilon: 0.49, loss: 4.556393146514893\n",
      "Episode: 150, Reward: -30.069780602471923, Epsilon: 0.47, loss: 1.9327257871627808\n",
      "Episode: 160, Reward: 20.932455912979364, Epsilon: 0.45, loss: 5.292708396911621\n",
      "Episode: 170, Reward: -132.42716432920076, Epsilon: 0.42, loss: 7.689212799072266\n",
      "Episode: 180, Reward: -100.79643813867689, Epsilon: 0.40, loss: 4.9463605880737305\n",
      "Episode: 190, Reward: -131.50321977984038, Epsilon: 0.38, loss: 7.417968273162842\n",
      "Episode: 200, Reward: -38.78553073744786, Epsilon: 0.37, loss: 15.002934455871582\n",
      "Episode: 210, Reward: -58.1023671814568, Epsilon: 0.35, loss: 5.189809799194336\n",
      "Episode: 220, Reward: -103.01572996598452, Epsilon: 0.33, loss: 5.680244445800781\n",
      "Episode: 230, Reward: -151.73147369706788, Epsilon: 0.31, loss: 3.3879737854003906\n",
      "Episode: 240, Reward: -86.37876388251507, Epsilon: 0.30, loss: 4.363821983337402\n",
      "Episode: 250, Reward: -40.87596218099229, Epsilon: 0.28, loss: 5.281805038452148\n",
      "Episode: 260, Reward: -144.06658992519036, Epsilon: 0.27, loss: 2.485719680786133\n",
      "Episode: 270, Reward: -80.46984821453046, Epsilon: 0.26, loss: 2.8623404502868652\n",
      "Episode: 280, Reward: -132.26122290735822, Epsilon: 0.24, loss: 2.7465174198150635\n",
      "Episode: 290, Reward: -155.10939311156466, Epsilon: 0.23, loss: 10.538442611694336\n",
      "Episode: 300, Reward: -47.05502430700044, Epsilon: 0.22, loss: 2.1663718223571777\n",
      "Episode: 310, Reward: -151.06729091915184, Epsilon: 0.21, loss: 1.6399199962615967\n",
      "Episode: 320, Reward: 20.349896859198168, Epsilon: 0.20, loss: 2.0768485069274902\n",
      "Episode: 330, Reward: -140.92504829286582, Epsilon: 0.19, loss: 8.824081420898438\n",
      "Episode: 340, Reward: -5.118485559440501, Epsilon: 0.18, loss: 3.050153970718384\n",
      "Episode: 350, Reward: -6.66840850382782, Epsilon: 0.17, loss: 1.3434765338897705\n",
      "Episode: 360, Reward: -36.4333217833634, Epsilon: 0.16, loss: 320.3759765625\n",
      "Episode: 370, Reward: -49.313889664576834, Epsilon: 0.16, loss: 1.8784692287445068\n",
      "Episode: 380, Reward: -95.86428084801452, Epsilon: 0.15, loss: 19.93039321899414\n",
      "Episode: 390, Reward: -15.782361092766948, Epsilon: 0.14, loss: 5.049055099487305\n",
      "Episode: 400, Reward: -138.24339347207982, Epsilon: 0.13, loss: 2.593088150024414\n",
      "Episode: 410, Reward: -79.11057872548378, Epsilon: 0.13, loss: 3.4384117126464844\n",
      "Episode: 420, Reward: -57.8552893106319, Epsilon: 0.12, loss: 6.7362213134765625\n",
      "Episode: 430, Reward: -10.605182952130022, Epsilon: 0.12, loss: 8.37454891204834\n",
      "Episode: 440, Reward: 2.0656522588447075, Epsilon: 0.11, loss: 14.076044082641602\n",
      "Episode: 450, Reward: -1.0839562377233278, Epsilon: 0.10, loss: 2.6051459312438965\n",
      "Episode: 460, Reward: -71.40327035472902, Epsilon: 0.10, loss: 2.861274242401123\n",
      "Episode: 470, Reward: -207.83713979917985, Epsilon: 0.09, loss: 4.278829574584961\n",
      "Episode: 480, Reward: -109.1240044646858, Epsilon: 0.09, loss: 1.832520842552185\n",
      "Episode: 490, Reward: -1.6155579895584111, Epsilon: 0.09, loss: 2.091325044631958\n"
     ]
    },
    {
     "data": {
      "image/png": "[encoded data removed]",
      "text/plain": [
       "<Figure size 640x480 with 1 Axes>"
      ]
     },
     "metadata": {},
     "output_type": "display_data"
    }
   ],
   "source": [
    "def select_action(state, policy_net, epsilon):\n",
    "    if random.random() < epsilon:\n",
    "        return random.randrange(action_size)\n",
    "    else:\n",
    "        with torch.no_grad():\n",
    "            policy_net.eval()\n",
    "            return policy_net(torch.tensor(state, dtype=torch.float32).unsqueeze(0).to(device)).argmax().item()\n",
    "\n",
    "def replay():\n",
    "    if len(memory) < BATCH_SIZE:\n",
    "        return\n",
    "    minibatch = random.sample(memory, BATCH_SIZE)\n",
    "    states, actions, rewards, next_states, dones = zip(*minibatch)\n",
    "\n",
    "    states = torch.tensor(states, dtype=torch.float32).to(device)\n",
    "    actions = torch.tensor(actions, dtype=torch.int64).unsqueeze(1).to(device)\n",
    "    rewards = torch.tensor(rewards, dtype=torch.float32).unsqueeze(1).to(device)\n",
    "    next_states = torch.tensor(next_states, dtype=torch.float32).to(device)\n",
    "    dones = torch.tensor(dones, dtype=torch.float32).unsqueeze(1).to(device)\n",
    "\n",
    "    current_q_values = policy_net(states).gather(1, actions)\n",
    "    next_q_values = target_net(next_states).max(1)[0].detach().unsqueeze(1)\n",
    "    target_q_values = rewards + (GAMMA * next_q_values * (1 - dones))\n",
    "\n",
    "    loss = nn.MSELoss()(current_q_values, target_q_values)\n",
    "    optimizer.zero_grad()\n",
    "    loss.backward()\n",
    "    optimizer.step()\n",
    "    \n",
    "    return loss.item()\n",
    "\n",
    "def update_target_net():\n",
    "    target_net.load_state_dict(policy_net.state_dict())\n",
    "\n",
    "# Training loop\n",
    "rewards = []\n",
    "mx_reward = -1e9\n",
    "for episode in range(EPISODES):\n",
    "    state, _ = env.reset()\n",
    "    total_reward = 0\n",
    "    done = False\n",
    "    \n",
    "    policy_net.train()\n",
    "    \n",
    "    while not done:\n",
    "        action = select_action(state, policy_net, epsilon)\n",
    "        next_state, reward, done, _, _ = env.step(action)\n",
    "        memory.append((state, action, reward, next_state, done))\n",
    "        state = next_state\n",
    "        total_reward += reward\n",
    "        \n",
    "        loss = replay()\n",
    "    \n",
    "    rewards.append(total_reward)\n",
    "    if total_reward > mx_reward:\n",
    "            mx_reward = total_reward\n",
    "            best_net.load_state_dict(policy_net.state_dict())\n",
    "    epsilon = max(EPSILON_END, epsilon * EPSILON_DECAY)\n",
    "    if episode % 10 == 0:\n",
    "        update_target_net()\n",
    "        print(f\"Episode: {episode}, Reward: {total_reward}, Epsilon: {epsilon:.2f}, loss: {loss}\")\n",
    "\n",
    "# Plotting rewards\n",
    "plt.plot(rewards)\n",
    "plt.xlabel('Episode')\n",
    "plt.ylabel('Reward')\n",
    "plt.title('DQN Training Performance')\n",
    "plt.show()"
   ]
  },
  {
   "cell_type": "code",
   "execution_count": 14,
   "metadata": {},
   "outputs": [
    {
     "name": "stdout",
     "output_type": "stream",
     "text": [
      "Episode: 1, Total Reward: 212.31410360400838\n",
      "Episode: 2, Total Reward: -93.51377778047555\n",
      "Episode: 3, Total Reward: -91.24535030130515\n",
      "Episode: 4, Total Reward: 175.41286860473042\n",
      "Episode: 5, Total Reward: 173.29282933593075\n"
     ]
    }
   ],
   "source": [
    "# Re-initialize the environment for visualization\n",
    "env = gym.make(\"LunarLander-v2\", render_mode=\"human\")\n",
    "env = TimeLimitWrapper(env, max_steps=800)\n",
    "\n",
    "# Function to play the environment\n",
    "def play_environment(env, policy_net, episodes=5):\n",
    "    for episode in range(episodes):\n",
    "        state, _ = env.reset()\n",
    "        done = False\n",
    "        total_reward = 0\n",
    "        while not done:\n",
    "            env.render()\n",
    "            action = select_action(state, policy_net, 0.0)  # Select action with epsilon=0 (greedy)\n",
    "            state, reward, done, _, _ = env.step(action)\n",
    "            total_reward += reward\n",
    "        print(f\"Episode: {episode+1}, Total Reward: {total_reward}\")\n",
    "\n",
    "# Play the environment after training\n",
    "play_environment(env, best_net)\n",
    "\n",
    "# Close the environment\n",
    "env.close()"
   ]
  },
  {
   "cell_type": "code",
   "execution_count": 13,
   "metadata": {},
   "outputs": [],
   "source": [
    "env.close()"
   ]
  },
  {
   "cell_type": "code",
   "execution_count": null,
   "metadata": {},
   "outputs": [],
   "source": []
  }
 ],
 "metadata": {
  "kernelspec": {
   "display_name": "torch",
   "language": "python",
   "name": "python3"
  },
  "language_info": {
   "codemirror_mode": {
    "name": "ipython",
    "version": 3
   },
   "file_extension": ".py",
   "mimetype": "text/x-python",
   "name": "python",
   "nbconvert_exporter": "python",
   "pygments_lexer": "ipython3",
   "version": "3.12.2"
  }
 },
 "nbformat": 4,
 "nbformat_minor": 2
}

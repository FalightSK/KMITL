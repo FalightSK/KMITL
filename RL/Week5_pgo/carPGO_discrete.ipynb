{
 "cells": [
  {
   "cell_type": "code",
   "execution_count": 1,
   "metadata": {},
   "outputs": [],
   "source": [
    "import sys\n",
    "# For Unix base OS\n",
    "sys.path.append('../stableBL/')\n",
    "# For Windows OS\n",
    "# sys.path.append('..\\stableBL\\')\n",
    "from pgo import DiscreteAgent\n",
    "import torch\n",
    "import numpy as np\n",
    "import gymnasium as gym"
   ]
  },
  {
   "cell_type": "code",
   "execution_count": 2,
   "metadata": {},
   "outputs": [
    {
     "name": "stdout",
     "output_type": "stream",
     "text": [
      "finish\n"
     ]
    }
   ],
   "source": [
    "# Using deterministic random to ensure that initial weights will be the same\n",
    "torch.manual_seed(42)\n",
    "print(\"finish\")"
   ]
  },
  {
   "cell_type": "code",
   "execution_count": 3,
   "metadata": {},
   "outputs": [
    {
     "name": "stdout",
     "output_type": "stream",
     "text": [
      "2 3\n"
     ]
    }
   ],
   "source": [
    "env = gym.make(\"MountainCar-v0\")\n",
    "state_dim = env.observation_space.shape[0]\n",
    "action_dim = env.action_space.n\n",
    "print(state_dim, action_dim)"
   ]
  },
  {
   "cell_type": "code",
   "execution_count": 4,
   "metadata": {},
   "outputs": [],
   "source": [
    "agent = DiscreteAgent(state_dim, action_dim)"
   ]
  },
  {
   "cell_type": "code",
   "execution_count": 5,
   "metadata": {},
   "outputs": [
    {
     "name": "stdout",
     "output_type": "stream",
     "text": [
      "Success under minimum 6328\n",
      "Episode 0, Total Reward: -6328.0\n",
      "Success under minimum 2076\n",
      "Failed under minimum 2077\n",
      "Success under minimum 1159\n",
      "Failed under minimum 1160\n",
      "Failed under minimum 1160\n",
      "Failed under minimum 1160\n",
      "Failed under minimum 1160\n",
      "Failed under minimum 1160\n",
      "Failed under minimum 1160\n",
      "Failed under minimum 1160\n",
      "Episode 10, Total Reward: -1160.0\n",
      "Failed under minimum 1160\n",
      "Failed under minimum 1160\n",
      "Failed under minimum 1160\n",
      "Failed under minimum 1160\n",
      "Failed under minimum 1160\n",
      "Failed under minimum 1160\n",
      "Failed under minimum 1160\n",
      "Failed under minimum 1160\n",
      "Failed under minimum 1160\n",
      "Failed under minimum 1160\n",
      "Episode 20, Total Reward: -1160.0\n",
      "Failed under minimum 1160\n",
      "Failed under minimum 1160\n",
      "Failed under minimum 1160\n",
      "Failed under minimum 1160\n",
      "Failed under minimum 1160\n",
      "Failed under minimum 1160\n",
      "Failed under minimum 1160\n",
      "Failed under minimum 1160\n",
      "Failed under minimum 1160\n",
      "Failed under minimum 1160\n",
      "Episode 30, Total Reward: -1160.0\n",
      "Failed under minimum 1160\n",
      "Failed under minimum 1160\n",
      "Failed under minimum 1160\n",
      "Failed under minimum 1160\n",
      "Failed under minimum 1160\n",
      "Failed under minimum 1160\n",
      "Failed under minimum 1160\n",
      "Failed under minimum 1160\n",
      "Failed under minimum 1160\n",
      "Failed under minimum 1160\n",
      "Episode 40, Total Reward: -1160.0\n",
      "Failed under minimum 1160\n",
      "Failed under minimum 1160\n",
      "Failed under minimum 1160\n",
      "Failed under minimum 1160\n",
      "Failed under minimum 1160\n",
      "Failed under minimum 1160\n",
      "Failed under minimum 1160\n",
      "Failed under minimum 1160\n",
      "Failed under minimum 1160\n",
      "Failed under minimum 1160\n",
      "Episode 50, Total Reward: -1160.0\n",
      "Success under minimum 883\n",
      "Failed under minimum 1001\n",
      "Failed under minimum 1001\n",
      "Failed under minimum 1001\n",
      "Failed under minimum 1001\n",
      "Failed under minimum 1001\n",
      "Failed under minimum 1001\n",
      "Failed under minimum 1001\n",
      "Failed under minimum 1001\n",
      "Failed under minimum 1001\n",
      "Episode 60, Total Reward: -1001.0\n",
      "Failed under minimum 1001\n",
      "Failed under minimum 1001\n",
      "Failed under minimum 1001\n",
      "Failed under minimum 1001\n",
      "Failed under minimum 1001\n",
      "Failed under minimum 1001\n",
      "Failed under minimum 1001\n",
      "Failed under minimum 1001\n",
      "Failed under minimum 1001\n",
      "Failed under minimum 1001\n",
      "Episode 70, Total Reward: -1001.0\n",
      "Failed under minimum 1001\n",
      "Failed under minimum 1001\n",
      "Failed under minimum 1001\n",
      "Failed under minimum 1001\n"
     ]
    },
    {
     "ename": "KeyboardInterrupt",
     "evalue": "",
     "output_type": "error",
     "traceback": [
      "\u001b[0;31m---------------------------------------------------------------------------\u001b[0m",
      "\u001b[0;31mKeyboardInterrupt\u001b[0m                         Traceback (most recent call last)",
      "Cell \u001b[0;32mIn[5], line 11\u001b[0m\n\u001b[1;32m      8\u001b[0m step_action \u001b[38;5;241m=\u001b[39m \u001b[38;5;241m0\u001b[39m\n\u001b[1;32m     10\u001b[0m \u001b[38;5;28;01mwhile\u001b[39;00m \u001b[38;5;129;01mnot\u001b[39;00m done:\n\u001b[0;32m---> 11\u001b[0m     action, log_prob \u001b[38;5;241m=\u001b[39m \u001b[43magent\u001b[49m\u001b[38;5;241;43m.\u001b[39;49m\u001b[43mselect_action\u001b[49m\u001b[43m(\u001b[49m\u001b[43mstate\u001b[49m\u001b[43m)\u001b[49m\n\u001b[1;32m     12\u001b[0m     next_state, reward, done, _, _ \u001b[38;5;241m=\u001b[39m env\u001b[38;5;241m.\u001b[39mstep(action)\n\u001b[1;32m     13\u001b[0m     agent\u001b[38;5;241m.\u001b[39mstore_outcome(reward, log_prob)\n",
      "File \u001b[0;32m~/RL/Week5_pgo/../stableBL/pgo.py:30\u001b[0m, in \u001b[0;36mDiscreteAgent.select_action\u001b[0;34m(self, state)\u001b[0m\n\u001b[1;32m     29\u001b[0m \u001b[38;5;28;01mdef\u001b[39;00m \u001b[38;5;21mselect_action\u001b[39m(\u001b[38;5;28mself\u001b[39m, state):\n\u001b[0;32m---> 30\u001b[0m     state \u001b[38;5;241m=\u001b[39m \u001b[43mtorch\u001b[49m\u001b[38;5;241;43m.\u001b[39;49m\u001b[43mtensor\u001b[49m\u001b[43m(\u001b[49m\u001b[43mnp\u001b[49m\u001b[38;5;241;43m.\u001b[39;49m\u001b[43marray\u001b[49m\u001b[43m(\u001b[49m\u001b[43mstate\u001b[49m\u001b[43m)\u001b[49m\u001b[43m,\u001b[49m\u001b[43m \u001b[49m\u001b[43mdtype\u001b[49m\u001b[38;5;241;43m=\u001b[39;49m\u001b[43mtorch\u001b[49m\u001b[38;5;241;43m.\u001b[39;49m\u001b[43mfloat32\u001b[49m\u001b[43m)\u001b[49m\u001b[38;5;241m.\u001b[39mto(\u001b[38;5;28mself\u001b[39m\u001b[38;5;241m.\u001b[39mdevice)  \u001b[38;5;66;03m# Convert state to tensor\u001b[39;00m\n\u001b[1;32m     31\u001b[0m     action_probs \u001b[38;5;241m=\u001b[39m \u001b[38;5;28mself\u001b[39m\u001b[38;5;241m.\u001b[39mpolicy_network(state)  \u001b[38;5;66;03m# Get action probabilities\u001b[39;00m\n\u001b[1;32m     32\u001b[0m     dist \u001b[38;5;241m=\u001b[39m Categorical(action_probs)  \u001b[38;5;66;03m# Create categorical distribution\u001b[39;00m\n",
      "\u001b[0;31mKeyboardInterrupt\u001b[0m: "
     ]
    }
   ],
   "source": [
    "rewards = []\n",
    "min_action = 1e9\n",
    "\n",
    "for episode in range(500):\n",
    "    state, _ = env.reset()\n",
    "    episode_reward = 0\n",
    "    done = False\n",
    "    step_action = 0\n",
    "    \n",
    "    while not done:\n",
    "        action, log_prob = agent.select_action(state)\n",
    "        next_state, reward, done, _, _ = env.step(action)\n",
    "        agent.store_outcome(reward, log_prob)\n",
    "        state = next_state\n",
    "        episode_reward += reward\n",
    "        \n",
    "        step_action += 1\n",
    "        \n",
    "        if episode > 0 and step_action > min_action:\n",
    "            print(f\"Failed under minimum {step_action}\")\n",
    "            break\n",
    "    \n",
    "    # Just to set the limit of the exploration which causing long training time\n",
    "    if step_action < min_action and step_action > 500 and done:\n",
    "        print(f\"Success under minimum {step_action}\")\n",
    "        min_action = max(step_action, 1000)\n",
    "        \n",
    "    agent.update_policy()\n",
    "    rewards.append(episode_reward)\n",
    "    \n",
    "    if episode % 10 == 0:\n",
    "        print(f\"Episode {episode}, Total Reward: {episode_reward}\")"
   ]
  },
  {
   "cell_type": "code",
   "execution_count": 6,
   "metadata": {},
   "outputs": [
    {
     "data": {
      "image/png": "[encoded data removed]",
      "text/plain": [
       "<Figure size 640x480 with 1 Axes>"
      ]
     },
     "metadata": {},
     "output_type": "display_data"
    }
   ],
   "source": [
    "import matplotlib.pyplot as plt\n",
    "\n",
    "plt.plot(np.linspace(1, len(rewards), len(rewards), dtype=np.int64), rewards)\n",
    "plt.show()"
   ]
  },
  {
   "cell_type": "code",
   "execution_count": null,
   "metadata": {},
   "outputs": [],
   "source": []
  }
 ],
 "metadata": {
  "kernelspec": {
   "display_name": "torch",
   "language": "python",
   "name": "python3"
  },
  "language_info": {
   "codemirror_mode": {
    "name": "ipython",
    "version": 3
   },
   "file_extension": ".py",
   "mimetype": "text/x-python",
   "name": "python",
   "nbconvert_exporter": "python",
   "pygments_lexer": "ipython3",
   "version": "3.12.2"
  }
 },
 "nbformat": 4,
 "nbformat_minor": 2
}

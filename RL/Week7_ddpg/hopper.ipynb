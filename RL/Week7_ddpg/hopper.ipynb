{
 "cells": [
  {
   "cell_type": "markdown",
   "metadata": {},
   "source": [
    "### **Function testing**\n",
    "just to test functioning of some coding - you can skip this part"
   ]
  },
  {
   "cell_type": "code",
   "execution_count": 1,
   "metadata": {},
   "outputs": [
    {
     "name": "stdout",
     "output_type": "stream",
     "text": [
      "(1, 6, 5)\n",
      "(2, 5, 9)\n",
      "0: [1 6 5] [1 6 5] [1 6 5] \n",
      "1: [2 5 9] [2 5 9] [2 5 9] \n"
     ]
    }
   ],
   "source": [
    "import numpy as np\n",
    "\n",
    "batch = [(1, 2), (6, 5), (5, 9)]\n",
    "\n",
    "for i in zip(*batch):\n",
    "    print(i)\n",
    "    \n",
    "res = map(np.stack, zip(*batch))\n",
    "\n",
    "for id, i in enumerate(res):\n",
    "    print(id, end=\": \")\n",
    "    for j in i:\n",
    "        print(i, end=\" \")\n",
    "    print()\n",
    "    \n",
    "del res, batch"
   ]
  },
  {
   "cell_type": "code",
   "execution_count": 2,
   "metadata": {},
   "outputs": [
    {
     "name": "stdout",
     "output_type": "stream",
     "text": [
      "(1, 12)\n",
      "[[0.30336463 0.63006889 0.1497885  0.782219   0.00800374 0.44044373\n",
      "  0.22829928 0.17337563 0.59634401 0.74992297 0.48982611 0.90902297]]\n"
     ]
    }
   ],
   "source": [
    "A = np.random.rand(2, 3, 2)\n",
    "A = A.reshape(1,-1)\n",
    "print(A.shape)\n",
    "print(A)"
   ]
  },
  {
   "cell_type": "markdown",
   "metadata": {},
   "source": [
    "### **Training model using DDPG technique with Continous enviroment**"
   ]
  },
  {
   "cell_type": "markdown",
   "metadata": {},
   "source": [
    "<h5><b>Initializing important library and set random seed for stable hyperparameters adjustment</b></h5>"
   ]
  },
  {
   "cell_type": "code",
   "execution_count": 1,
   "metadata": {},
   "outputs": [],
   "source": [
    "import sys\n",
    "# For Unix base OS\n",
    "sys.path.append('../stableBL/')\n",
    "# For Windows OS\n",
    "# sys.path.append('..\\stableBL\\')\n",
    "from ddpg import Actor, Critic, ReplayBuffer, DDPGAgent\n",
    "import torch\n",
    "import numpy as np\n",
    "import gymnasium as gym"
   ]
  },
  {
   "cell_type": "code",
   "execution_count": 7,
   "metadata": {},
   "outputs": [
    {
     "name": "stdout",
     "output_type": "stream",
     "text": [
      "finish\n"
     ]
    }
   ],
   "source": [
    "# Using deterministic random to ensure that initial weights will be the same\n",
    "torch.manual_seed(42)\n",
    "print(\"finish\")"
   ]
  },
  {
   "cell_type": "markdown",
   "metadata": {},
   "source": [
    "<h5><b>Create enviroment system</b></h5>"
   ]
  },
  {
   "cell_type": "code",
   "execution_count": 5,
   "metadata": {},
   "outputs": [
    {
     "name": "stdout",
     "output_type": "stream",
     "text": [
      "11 3 1.0\n"
     ]
    }
   ],
   "source": [
    "# Crate enviroment using gynasium\n",
    "env = gym.make('Hopper-v4')\n",
    "# Get the state of the object inside environment\n",
    "state_dim = env.observation_space.shape[0]\n",
    "# Get possible action of the object to interact with enviroment\n",
    "action_dim = env.action_space.shape[0]\n",
    "# In the case of \"Continuous\" enviroment, we should get max action to determine range of action value\n",
    "max_action = float(env.action_space.high[0])\n",
    "\n",
    "print(state_dim, action_dim, max_action)"
   ]
  },
  {
   "cell_type": "markdown",
   "metadata": {},
   "source": [
    "<h5><b>Agent architecture, Training, and Hyperparameters tuning</b></h5>\n",
    "\n",
    "The idea behind ***DDPG (Deep Deterministic Policy Gradient Optimization)*** consists of **4 keypoints** <br>\n",
    "\n",
    "**1. Deterministic Policy (Actor):** <br>\n",
    "This model <u>maps the input state into spacific value under action space</u> of the environment, unlike Actor-Critic or PGO model with using the probability distribution to select the action value for each input state. <br> \n",
    "\n",
    "**2. Off-Policy learning:** <br>\n",
    "This technique allows DDPG model to <u>learn past states anlong with new states</u> by storing every action inside <u>replay_buffer</u> (Can be either Dque or Array), then sample those states from replay_buffer and feed to learning algorithm for parameters optimization. <br>\n",
    "\n",
    "**3. Noise Exploration:** <br>\n",
    "This noise will be added to action value (output from Actor) in order to make model explore to more scenario. <br>\n",
    "\n",
    "**4. Q_value optimization and Bellman Error (Critic):** <br>\n",
    "<u>Actor model</u>: will be updated by **-1 * Q_value** (q is output from critic) with the purpose to maximize Q_value <br>\n",
    "<u>Critic model</u>: Q_vaule measures how good of the action is when reacting to the current state of environment. <br>\n",
    "\n",
    "It defines as this Bellman euqation\n",
    "\n",
    "<p><b>Q(s,a)=E_r,s′[r+γQ(s′,π(s′))]</b></p>\n",
    "\n",
    "**r** is reward<br>\n",
    "**s'** is next state<br>\n",
    "**γ** is how much greedy of Q_value | 0 means very greedy, 1 means not interest in current reward <br>\n",
    "\n",
    "**DDPG use above equation to define Q_traget**<br>\n",
    "\n",
    "Then DDPG update critic model parameters by performing gradient optimiztion of the function <u><b>MESLoss(Q_value, Q_traget)</b></u> <br>\n",
    "##Note Q_value is the output of Critic model in DDPG context <br>\n",
    "\n",
    "The effect of hyperparameters\n",
    "1. gamma [0, 1]: Define how greedy of the model | 0 = greedy, 1 = not greedy\n",
    "2. tau [0.001, 0.01]: Determine how soft and hard in updating Actor / Critic model | Higher means more hard\n",
    "3. theta [0.1, 0.3]: How quick the noise will decay allows more stability in training\n",
    "4. sigma [0.2, 0.3]: Amplitude of Noise which allows more exploration"
   ]
  },
  {
   "cell_type": "code",
   "execution_count": 6,
   "metadata": {},
   "outputs": [],
   "source": [
    "agent = DDPGAgent(state_dim, action_dim, 1, sigma=0.2, actor_lr=1e-4, critic_lr=1e-3)"
   ]
  },
  {
   "cell_type": "code",
   "execution_count": 1,
   "metadata": {},
   "outputs": [],
   "source": [
    "episodes = 2000\n",
    "mxstep = 500\n",
    "batchsize = 64\n",
    "mx_reward = -1e9\n",
    "rewards = []\n",
    "\n",
    "for ep in range(1, episodes+1):\n",
    "    episode_reward = 0\n",
    "    state = env.reset()\n",
    "    agent.reset_noise()\n",
    "    for i in range(mxstep):\n",
    "        if type(state) == tuple:\n",
    "            state = state[0]\n",
    "            action = agent.select_action(np.array(state))\n",
    "        else:\n",
    "            action = agent.select_action(np.array(state))\n",
    "        next_state, reward, done, _, _ = env.step(action)\n",
    "        agent.replay_buffer.add(state, action, reward, next_state, done)\n",
    "        \n",
    "        state = next_state\n",
    "        episode_reward += reward\n",
    "        \n",
    "        if agent.replay_buffer.size() > batchsize:\n",
    "            # print(ep)\n",
    "            agent.train(batchsize)\n",
    "            # agent.replay_buffer.reset()\n",
    "        \n",
    "        if int(done):\n",
    "            break\n",
    "    \n",
    "    rewards.append(episode_reward)\n",
    "    if episode_reward > mx_reward:\n",
    "        mx_reward = episode_reward\n",
    "        agent.save(\"best\", \"./\")\n",
    "    \n",
    "    if ep % 100 == 0:\n",
    "        print(f\"at {ep}: total reward is {np.array(rewards[ep-100:ep]).mean()}\")"
   ]
  },
  {
   "cell_type": "code",
   "execution_count": 8,
   "metadata": {},
   "outputs": [
    {
     "data": {
      "image/png": "[encoded data removed]",
      "text/plain": [
       "<Figure size 640x480 with 1 Axes>"
      ]
     },
     "metadata": {},
     "output_type": "display_data"
    }
   ],
   "source": [
    "import matplotlib.pyplot as plt\n",
    "\n",
    "plt.plot(np.linspace(1, len(rewards), len(rewards), dtype=np.int64), rewards)\n",
    "plt.show()"
   ]
  },
  {
   "cell_type": "code",
   "execution_count": 10,
   "metadata": {},
   "outputs": [
    {
     "name": "stdout",
     "output_type": "stream",
     "text": [
      "Episode: 1, sum reward: 310.6449110387538\n",
      "Episode: 2, sum reward: 1158.6170989051022\n",
      "Episode: 3, sum reward: 465.8575486497815\n",
      "Episode: 4, sum reward: 637.1207863793\n",
      "Episode: 5, sum reward: 578.7567945509339\n"
     ]
    }
   ],
   "source": [
    "env = gym.make('Hopper-v4', render_mode=\"human\")\n",
    "\n",
    "agent.load(\"best\", \"./\")\n",
    "\n",
    "def play_env(episode = 5):\n",
    "    for ep in range(episode):\n",
    "        state, _ = env.reset()\n",
    "        done = False\n",
    "        sum_reward = 0\n",
    "        while not done:\n",
    "            env.render()\n",
    "            action = agent.select_action(np.array(state))\n",
    "            state, reward, done, _, _ = env.step(action)\n",
    "            sum_reward += reward\n",
    "        print(f\"Episode: {ep+1}, sum reward: {sum_reward}\")\n",
    "        \n",
    "play_env()\n",
    "env.close()"
   ]
  },
  {
   "cell_type": "code",
   "execution_count": null,
   "metadata": {},
   "outputs": [],
   "source": [
    "env.close()"
   ]
  }
 ],
 "metadata": {
  "kernelspec": {
   "display_name": "torch",
   "language": "python",
   "name": "python3"
  },
  "language_info": {
   "codemirror_mode": {
    "name": "ipython",
    "version": 3
   },
   "file_extension": ".py",
   "mimetype": "text/x-python",
   "name": "python",
   "nbconvert_exporter": "python",
   "pygments_lexer": "ipython3",
   "version": "3.12.2"
  }
 },
 "nbformat": 4,
 "nbformat_minor": 2
}
